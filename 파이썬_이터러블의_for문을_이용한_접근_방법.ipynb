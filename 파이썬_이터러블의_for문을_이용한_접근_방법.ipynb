{
  "nbformat": 4,
  "nbformat_minor": 0,
  "metadata": {
    "colab": {
      "provenance": [],
      "authorship_tag": "ABX9TyPKBFdQc789/1T/GNVYeBTt",
      "include_colab_link": true
    },
    "kernelspec": {
      "name": "python3",
      "display_name": "Python 3"
    },
    "language_info": {
      "name": "python"
    }
  },
  "cells": [
    {
      "cell_type": "markdown",
      "metadata": {
        "id": "view-in-github",
        "colab_type": "text"
      },
      "source": [
        "<a href=\"https://colab.research.google.com/github/jaehyun-ko/COR1010/blob/main/%ED%8C%8C%EC%9D%B4%EC%8D%AC_%EC%9D%B4%ED%84%B0%EB%9F%AC%EB%B8%94%EC%9D%98_for%EB%AC%B8%EC%9D%84_%EC%9D%B4%EC%9A%A9%ED%95%9C_%EC%A0%91%EA%B7%BC_%EB%B0%A9%EB%B2%95.ipynb\" target=\"_parent\"><img src=\"https://colab.research.google.com/assets/colab-badge.svg\" alt=\"Open In Colab\"/></a>"
      ]
    },
    {
      "cell_type": "markdown",
      "source": [
        "# 파이썬 이터러블의 for문을 이용한 접근 방법\n",
        "- 파이썬은 리스트, 튜플과 같이 개별 원소를 반복적으로 셀 수 있는 객체(이터러블, =iterable) 를 제공합니다.\n",
        "- 이터러블은 반복을 편리하게 구현하기 위해서 만들어진 개념이라고 할 수 있습니다.\n",
        "- 이터러블 객체를 for문을 사용하여 순회하는 방법은 세 가지가 있습니다.\n",
        "    1. 개별 원소를 직접 접근하는 방법\n",
        "    2. 원소의 위치(인덱스, index)를 넘겨주어 개별 원소에 접근하는 방법\n",
        "    3. `enumerate()`를 이용하여 1번과 2번을 동시에 사용하는 방법\n",
        "- 이 노트북에서는 1번과 2번의 두 가지 방법에 대해 알아봅니다."
      ],
      "metadata": {
        "id": "d0oJcx8LbbzI"
      }
    },
    {
      "cell_type": "markdown",
      "source": [
        "## 0. 필요 라이브러리 import 및 seed 고정\n",
        "- 넘파이 어레이를 만들기 위한 라이브러리를 import 합니다.\n",
        "- 직접 실행해보실 때 실험 결과가 동일하게 출력되도록 난수 생성 함수의 인자를 고정합니다. "
      ],
      "metadata": {
        "id": "8s-SwW2BdIQd"
      }
    },
    {
      "cell_type": "code",
      "source": [
        "# 라이브러리 import\n",
        "import numpy as np\n",
        "import random\n",
        "\n",
        "# 난수 생성 함수의 인자를 고정\n",
        "np.random.seed(0)\n",
        "random.seed(0)"
      ],
      "metadata": {
        "id": "FOOhEbZ8bYzI"
      },
      "execution_count": 1,
      "outputs": []
    },
    {
      "cell_type": "markdown",
      "source": [
        "- 본 노트북에서는 과제에 대한 직접적인 설명을 피하기 위해 numpy에서 제공하는 `np.random.randint()` 를 이용해서 `[20, 2]` 크기의 랜덤 어레이를 생성하도록 하겠습니다."
      ],
      "metadata": {
        "id": "dt4rCyc3fEy3"
      }
    },
    {
      "cell_type": "code",
      "execution_count": 5,
      "metadata": {
        "colab": {
          "base_uri": "https://localhost:8080/"
        },
        "id": "haOG_2rfbHTg",
        "outputId": "da80a346-832d-4f34-f0e2-22bba669a51a"
      },
      "outputs": [
        {
          "output_type": "stream",
          "name": "stdout",
          "text": [
            "[[4 3]\n",
            " [3 4]\n",
            " [1 1]\n",
            " [1 2]\n",
            " [3 1]\n",
            " [2 3]\n",
            " [4 3]\n",
            " [3 4]\n",
            " [2 1]\n",
            " [1 1]\n",
            " [4 4]\n",
            " [1 3]\n",
            " [3 1]\n",
            " [1 4]\n",
            " [1 2]\n",
            " [3 1]\n",
            " [1 4]\n",
            " [2 4]\n",
            " [1 3]\n",
            " [2 2]]\n"
          ]
        }
      ],
      "source": [
        "numbers = np.random.randint(1, 5, [20, 2])\n",
        "print(numbers)"
      ]
    },
    {
      "cell_type": "code",
      "source": [
        "print(numbers.shape)"
      ],
      "metadata": {
        "colab": {
          "base_uri": "https://localhost:8080/"
        },
        "id": "Pm0w2b-5e37K",
        "outputId": "025b6503-c77a-4e5d-bc4e-74b2dd9475ea"
      },
      "execution_count": 6,
      "outputs": [
        {
          "output_type": "stream",
          "name": "stdout",
          "text": [
            "(20, 2)\n"
          ]
        }
      ]
    },
    {
      "cell_type": "markdown",
      "source": [
        "## 1. 개별 원소를 직접 접근하는 방법\n",
        "다음과 같이 작성하면 개별 원소에 직접 접근할 수 있습니다.\n",
        "![KakaoTalk_20221120_190514315.png](data:image/png;base64,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)\n"
      ],
      "metadata": {
        "id": "ur-ZNL4DcSa-"
      }
    },
    {
      "cell_type": "code",
      "source": [
        "# 방금 생성한 numbers의 요소가 차례로 출력되는 것을 확인할 수 있음\n",
        "# 출력 결과의 바깥 [] 이 없음을 확인할 것\n",
        "for nums in numbers:\n",
        "    print(nums)"
      ],
      "metadata": {
        "colab": {
          "base_uri": "https://localhost:8080/"
        },
        "id": "A9dgWDMweVe_",
        "outputId": "56432283-ab07-4d95-cb82-858db7e00423"
      },
      "execution_count": 9,
      "outputs": [
        {
          "output_type": "stream",
          "name": "stdout",
          "text": [
            "[4 3]\n",
            "[3 4]\n",
            "[1 1]\n",
            "[1 2]\n",
            "[3 1]\n",
            "[2 3]\n",
            "[4 3]\n",
            "[3 4]\n",
            "[2 1]\n",
            "[1 1]\n",
            "[4 4]\n",
            "[1 3]\n",
            "[3 1]\n",
            "[1 4]\n",
            "[1 2]\n",
            "[3 1]\n",
            "[1 4]\n",
            "[2 4]\n",
            "[1 3]\n",
            "[2 2]\n"
          ]
        }
      ]
    },
    {
      "cell_type": "markdown",
      "source": [
        "nums의 각 요소에 접근하고 싶으면 다음과 같이 접근하면 됩니다."
      ],
      "metadata": {
        "id": "6ShUN-8lh7i9"
      }
    },
    {
      "cell_type": "code",
      "source": [
        "# numbers의 요소인 nums의, 각 요소에 접근\n",
        "for nums in numbers:\n",
        "    print(nums[0])\n",
        "    print(nums[1])"
      ],
      "metadata": {
        "colab": {
          "base_uri": "https://localhost:8080/"
        },
        "id": "2hxQyEO5g8m9",
        "outputId": "e77f5713-007c-4132-b2e2-4aba9e1e393e"
      },
      "execution_count": 10,
      "outputs": [
        {
          "output_type": "stream",
          "name": "stdout",
          "text": [
            "4\n",
            "3\n",
            "3\n",
            "4\n",
            "1\n",
            "1\n",
            "1\n",
            "2\n",
            "3\n",
            "1\n",
            "2\n",
            "3\n",
            "4\n",
            "3\n",
            "3\n",
            "4\n",
            "2\n",
            "1\n",
            "1\n",
            "1\n",
            "4\n",
            "4\n",
            "1\n",
            "3\n",
            "3\n",
            "1\n",
            "1\n",
            "4\n",
            "1\n",
            "2\n",
            "3\n",
            "1\n",
            "1\n",
            "4\n",
            "2\n",
            "4\n",
            "1\n",
            "3\n",
            "2\n",
            "2\n"
          ]
        }
      ]
    },
    {
      "cell_type": "markdown",
      "source": [
        "- 요소의 값을 바꾸기 위해서는 반복문에서 각 요소별로 바꾸고 싶은 값을 할당해주면 되겠죠.\n",
        "- 여기에서는 첫번째 행에는 1을, 두번째 행에는 2를 할당하도록 하겠습니다."
      ],
      "metadata": {
        "id": "YbsCQR2kg9Zj"
      }
    },
    {
      "cell_type": "code",
      "source": [
        "for nums in numbers:\n",
        "    nums[0] = 1\n",
        "    nums[1] = 2\n",
        "print(numbers)"
      ],
      "metadata": {
        "colab": {
          "base_uri": "https://localhost:8080/"
        },
        "id": "no20IAizgxhU",
        "outputId": "4e38c7c6-0268-4506-b5ea-842291d17276"
      },
      "execution_count": 12,
      "outputs": [
        {
          "output_type": "stream",
          "name": "stdout",
          "text": [
            "[[1 2]\n",
            " [1 2]\n",
            " [1 2]\n",
            " [1 2]\n",
            " [1 2]\n",
            " [1 2]\n",
            " [1 2]\n",
            " [1 2]\n",
            " [1 2]\n",
            " [1 2]\n",
            " [1 2]\n",
            " [1 2]\n",
            " [1 2]\n",
            " [1 2]\n",
            " [1 2]\n",
            " [1 2]\n",
            " [1 2]\n",
            " [1 2]\n",
            " [1 2]\n",
            " [1 2]]\n"
          ]
        }
      ]
    },
    {
      "cell_type": "markdown",
      "source": [
        "## 2.원소의 위치(인덱스, index)를 넘겨주어 개별 원소에 접근하는 방법"
      ],
      "metadata": {
        "id": "BQrvb1S8iaBM"
      }
    },
    {
      "cell_type": "markdown",
      "source": [
        "- 1번 항복에서 numbers의 값을 변경하였으므로, numbers를 재할당 하겠습니다."
      ],
      "metadata": {
        "id": "ZWCyTSU2isGs"
      }
    },
    {
      "cell_type": "code",
      "source": [
        "numbers = np.random.randint(1, 5, [20, 2])\n",
        "print(numbers)"
      ],
      "metadata": {
        "colab": {
          "base_uri": "https://localhost:8080/"
        },
        "id": "RIOdTwfgiXkx",
        "outputId": "86bc2397-cfd2-43ca-e39d-9e84919af8be"
      },
      "execution_count": 13,
      "outputs": [
        {
          "output_type": "stream",
          "name": "stdout",
          "text": [
            "[[2 4]\n",
            " [1 1]\n",
            " [1 2]\n",
            " [2 3]\n",
            " [2 1]\n",
            " [1 2]\n",
            " [3 2]\n",
            " [2 4]\n",
            " [2 1]\n",
            " [1 1]\n",
            " [4 4]\n",
            " [2 3]\n",
            " [2 4]\n",
            " [2 4]\n",
            " [1 1]\n",
            " [4 2]\n",
            " [3 1]\n",
            " [3 4]\n",
            " [4 3]\n",
            " [4 2]]\n"
          ]
        }
      ]
    },
    {
      "cell_type": "markdown",
      "source": [
        "1번에서 살펴본 내용을 다시 생각해 봅시다.\n",
        "- for 문은 `for 원소 in 반복가능한객체:` 꼴로 쓰임\n",
        "-`반복가능한객체` 속의 내용물을 순서대로 `원소`에 대입함.  \n",
        "\n",
        "그렇다면, `반복가능한객체` 위치에 시퀀스의 길이만큼의 인덱스 번호 시퀀스를 넘겨준다면 시퀀스 속의 내용물을 반복가능하다는 것을 알 수 있습니다.  \n",
        "이를 위한 것이 `range(시작, 끝+1, 뛰어넘을 수)` 입니다.\n"
      ],
      "metadata": {
        "id": "rhZYJRJ5i3XQ"
      }
    },
    {
      "cell_type": "code",
      "source": [
        "# range는 시작 번호부터 시작해서 끝이 나올 때까지 1씩 증가시키며 이어진 수를 생성\n",
        "print(list(range(1, 10)))"
      ],
      "metadata": {
        "colab": {
          "base_uri": "https://localhost:8080/"
        },
        "id": "wkLwK7PIi2-w",
        "outputId": "c3707dc6-6dc0-4d66-d9a0-2106844507f0"
      },
      "execution_count": 14,
      "outputs": [
        {
          "output_type": "stream",
          "name": "stdout",
          "text": [
            "[1, 2, 3, 4, 5, 6, 7, 8, 9]\n"
          ]
        }
      ]
    },
    {
      "cell_type": "code",
      "source": [
        "# range의 시작 원소가 없으면 0부터 시작\n",
        "print(list(range(10)))"
      ],
      "metadata": {
        "colab": {
          "base_uri": "https://localhost:8080/"
        },
        "id": "wRtGVzXolaj5",
        "outputId": "fc1f02bc-f544-4651-cbdb-74840511f222"
      },
      "execution_count": 19,
      "outputs": [
        {
          "output_type": "stream",
          "name": "stdout",
          "text": [
            "[0, 1, 2, 3, 4, 5, 6, 7, 8, 9]\n"
          ]
        }
      ]
    },
    {
      "cell_type": "code",
      "source": [
        "# 뛰어넘을 수는 기본으로 1이지만 인자로 넘겨주었을 경우 해당 크기만큼 뛰어넘음\n",
        "print(list(range(1, 10, 2)))"
      ],
      "metadata": {
        "colab": {
          "base_uri": "https://localhost:8080/"
        },
        "id": "9K4aix_bkXUh",
        "outputId": "1d86880c-75fb-470a-eb54-699562727b15"
      },
      "execution_count": 15,
      "outputs": [
        {
          "output_type": "stream",
          "name": "stdout",
          "text": [
            "[1, 3, 5, 7, 9]\n"
          ]
        }
      ]
    },
    {
      "cell_type": "markdown",
      "source": [
        "`numpy array`의 길이는 어떻게 알 수 있을까요?  \n",
        "`numpy array`는 크기가 변할 때마다 크기를 측정하여 `shape` 속성에 튜플 형태로 저장합니다."
      ],
      "metadata": {
        "id": "PEiqR2GokgBF"
      }
    },
    {
      "cell_type": "code",
      "source": [
        "numbers.shape"
      ],
      "metadata": {
        "colab": {
          "base_uri": "https://localhost:8080/"
        },
        "id": "ITODGUd8kep0",
        "outputId": "362d5978-d51a-473b-bfe1-81900a64340f"
      },
      "execution_count": 17,
      "outputs": [
        {
          "output_type": "execute_result",
          "data": {
            "text/plain": [
              "(20, 2)"
            ]
          },
          "metadata": {},
          "execution_count": 17
        }
      ]
    },
    {
      "cell_type": "markdown",
      "source": [
        "그렇다면, shape 속성의 0번째 원소가 `numpy array` 의 행의 수가 되겠네요."
      ],
      "metadata": {
        "id": "tXfKzcM1lIcB"
      }
    },
    {
      "cell_type": "code",
      "source": [
        "numbers.shape[0]"
      ],
      "metadata": {
        "colab": {
          "base_uri": "https://localhost:8080/"
        },
        "id": "GJQBauH6lHnL",
        "outputId": "2d7f33b0-0f06-4c9b-d7f6-f819c06e2780"
      },
      "execution_count": 18,
      "outputs": [
        {
          "output_type": "execute_result",
          "data": {
            "text/plain": [
              "20"
            ]
          },
          "metadata": {},
          "execution_count": 18
        }
      ]
    },
    {
      "cell_type": "markdown",
      "source": [
        "이제 행의 수를 알았으니, 각 행에 접근하기만 하면 되겠네요.\n",
        "- 인덱스는 0부터 시작\n",
        "- 1씩 증가시키며\n",
        "- `numbers.shape[0]-1` 번째 인덱스까지 접근해야 함\n",
        "\n",
        "이는 range와 완벽히 같은 특성인 것을 알 수 있습니다."
      ],
      "metadata": {
        "id": "fUVFBGYqllnf"
      }
    },
    {
      "cell_type": "code",
      "source": [
        "for index in range(numbers.shape[0]):\n",
        "    print(numbers[index])"
      ],
      "metadata": {
        "colab": {
          "base_uri": "https://localhost:8080/"
        },
        "id": "spQmatzlksqK",
        "outputId": "b2a5180c-85d4-41be-c432-14d52c7772cc"
      },
      "execution_count": 20,
      "outputs": [
        {
          "output_type": "stream",
          "name": "stdout",
          "text": [
            "[2 4]\n",
            "[1 1]\n",
            "[1 2]\n",
            "[2 3]\n",
            "[2 1]\n",
            "[1 2]\n",
            "[3 2]\n",
            "[2 4]\n",
            "[2 1]\n",
            "[1 1]\n",
            "[4 4]\n",
            "[2 3]\n",
            "[2 4]\n",
            "[2 4]\n",
            "[1 1]\n",
            "[4 2]\n",
            "[3 1]\n",
            "[3 4]\n",
            "[4 3]\n",
            "[4 2]\n"
          ]
        }
      ]
    },
    {
      "cell_type": "markdown",
      "source": [
        "1번과 마찬가지로,\n",
        "요소의 값을 바꾸기 위해서는 반복문에서 각 요소별로 바꾸고 싶은 값을 할당해주면 되겠죠.  \n",
        "\n",
        "여기에서는 첫번째 행에는 1을, 두번째 행에는 2를 할당하도록 하겠습니다."
      ],
      "metadata": {
        "id": "ZT8xwuITmGvh"
      }
    },
    {
      "cell_type": "code",
      "source": [
        "for index in range(numbers.shape[0]):\n",
        "    numbers[index,0] = 1\n",
        "    numbers[index,1] = 2\n",
        "print(numbers)"
      ],
      "metadata": {
        "colab": {
          "base_uri": "https://localhost:8080/"
        },
        "id": "5jYu5Icoiql-",
        "outputId": "1fda7a88-f428-4378-e976-7b663e86d7d3"
      },
      "execution_count": 22,
      "outputs": [
        {
          "output_type": "stream",
          "name": "stdout",
          "text": [
            "[[1 2]\n",
            " [1 2]\n",
            " [1 2]\n",
            " [1 2]\n",
            " [1 2]\n",
            " [1 2]\n",
            " [1 2]\n",
            " [1 2]\n",
            " [1 2]\n",
            " [1 2]\n",
            " [1 2]\n",
            " [1 2]\n",
            " [1 2]\n",
            " [1 2]\n",
            " [1 2]\n",
            " [1 2]\n",
            " [1 2]\n",
            " [1 2]\n",
            " [1 2]\n",
            " [1 2]]\n"
          ]
        }
      ]
    }
  ]
}