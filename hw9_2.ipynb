{
  "nbformat": 4,
  "nbformat_minor": 0,
  "metadata": {
    "colab": {
      "provenance": [],
      "authorship_tag": "ABX9TyPLRrYMWV3+pJ2+vN437JmR",
      "include_colab_link": true
    },
    "kernelspec": {
      "name": "python3",
      "display_name": "Python 3"
    },
    "language_info": {
      "name": "python"
    }
  },
  "cells": [
    {
      "cell_type": "markdown",
      "metadata": {
        "id": "view-in-github",
        "colab_type": "text"
      },
      "source": [
        "<a href=\"https://colab.research.google.com/github/jaehyun-ko/COR1010/blob/main/hw9_2.ipynb\" target=\"_parent\"><img src=\"https://colab.research.google.com/assets/colab-badge.svg\" alt=\"Open In Colab\"/></a>"
      ]
    },
    {
      "cell_type": "markdown",
      "source": [
        "# 구구단 구현"
      ],
      "metadata": {
        "id": "h70ZqrYojxeb"
      }
    },
    {
      "cell_type": "code",
      "source": [
        "import numpy as np"
      ],
      "metadata": {
        "id": "Tm5JJbu-j8Xg"
      },
      "execution_count": 2,
      "outputs": []
    },
    {
      "cell_type": "code",
      "source": [
        "nums=np.zeros([8*9,3])\n",
        "for x in range(2,10):\n",
        "  a=np.zeros((9,3))\n",
        "  for y in range(0,9):\n",
        "    a[y]=[x, y+1, x*(y+1)] #한번에 할당해도 됩니다!\n",
        "  nums[(x-2)*9:(x-1)*9] = a #x-2는 0부터 시작하니까 한 단씩 채워지게 됩니다.\n",
        "print(nums)"
      ],
      "metadata": {
        "colab": {
          "base_uri": "https://localhost:8080/"
        },
        "id": "hvmrgEo2jw38",
        "outputId": "b0fa84c3-0483-4d67-a678-4cc4d0b15084"
      },
      "execution_count": 9,
      "outputs": [
        {
          "output_type": "stream",
          "name": "stdout",
          "text": [
            "[[ 2.  1.  2.]\n",
            " [ 2.  2.  4.]\n",
            " [ 2.  3.  6.]\n",
            " [ 2.  4.  8.]\n",
            " [ 2.  5. 10.]\n",
            " [ 2.  6. 12.]\n",
            " [ 2.  7. 14.]\n",
            " [ 2.  8. 16.]\n",
            " [ 2.  9. 18.]\n",
            " [ 3.  1.  3.]\n",
            " [ 3.  2.  6.]\n",
            " [ 3.  3.  9.]\n",
            " [ 3.  4. 12.]\n",
            " [ 3.  5. 15.]\n",
            " [ 3.  6. 18.]\n",
            " [ 3.  7. 21.]\n",
            " [ 3.  8. 24.]\n",
            " [ 3.  9. 27.]\n",
            " [ 4.  1.  4.]\n",
            " [ 4.  2.  8.]\n",
            " [ 4.  3. 12.]\n",
            " [ 4.  4. 16.]\n",
            " [ 4.  5. 20.]\n",
            " [ 4.  6. 24.]\n",
            " [ 4.  7. 28.]\n",
            " [ 4.  8. 32.]\n",
            " [ 4.  9. 36.]\n",
            " [ 5.  1.  5.]\n",
            " [ 5.  2. 10.]\n",
            " [ 5.  3. 15.]\n",
            " [ 5.  4. 20.]\n",
            " [ 5.  5. 25.]\n",
            " [ 5.  6. 30.]\n",
            " [ 5.  7. 35.]\n",
            " [ 5.  8. 40.]\n",
            " [ 5.  9. 45.]\n",
            " [ 6.  1.  6.]\n",
            " [ 6.  2. 12.]\n",
            " [ 6.  3. 18.]\n",
            " [ 6.  4. 24.]\n",
            " [ 6.  5. 30.]\n",
            " [ 6.  6. 36.]\n",
            " [ 6.  7. 42.]\n",
            " [ 6.  8. 48.]\n",
            " [ 6.  9. 54.]\n",
            " [ 7.  1.  7.]\n",
            " [ 7.  2. 14.]\n",
            " [ 7.  3. 21.]\n",
            " [ 7.  4. 28.]\n",
            " [ 7.  5. 35.]\n",
            " [ 7.  6. 42.]\n",
            " [ 7.  7. 49.]\n",
            " [ 7.  8. 56.]\n",
            " [ 7.  9. 63.]\n",
            " [ 8.  1.  8.]\n",
            " [ 8.  2. 16.]\n",
            " [ 8.  3. 24.]\n",
            " [ 8.  4. 32.]\n",
            " [ 8.  5. 40.]\n",
            " [ 8.  6. 48.]\n",
            " [ 8.  7. 56.]\n",
            " [ 8.  8. 64.]\n",
            " [ 8.  9. 72.]\n",
            " [ 9.  1.  9.]\n",
            " [ 9.  2. 18.]\n",
            " [ 9.  3. 27.]\n",
            " [ 9.  4. 36.]\n",
            " [ 9.  5. 45.]\n",
            " [ 9.  6. 54.]\n",
            " [ 9.  7. 63.]\n",
            " [ 9.  8. 72.]\n",
            " [ 9.  9. 81.]]\n"
          ]
        }
      ]
    },
    {
      "cell_type": "markdown",
      "source": [
        "또는 반복문 대신 파이썬의 장점인 슬라이싱을 써도 됩니다."
      ],
      "metadata": {
        "id": "uOlJNaVnj5xP"
      }
    },
    {
      "cell_type": "code",
      "source": [
        "one_to_nine = np.array(range(1, 9+1))\n",
        "print(one_to_nine)"
      ],
      "metadata": {
        "colab": {
          "base_uri": "https://localhost:8080/"
        },
        "id": "LqpB83Z6kx1O",
        "outputId": "8cceb5f6-d7c0-4855-800d-0ecfb12ad656"
      },
      "execution_count": 6,
      "outputs": [
        {
          "output_type": "stream",
          "name": "stdout",
          "text": [
            "[1 2 3 4 5 6 7 8 9]\n"
          ]
        }
      ]
    },
    {
      "cell_type": "code",
      "execution_count": 8,
      "metadata": {
        "colab": {
          "base_uri": "https://localhost:8080/"
        },
        "id": "3EBCsYbgjuyX",
        "outputId": "e587e611-079e-43e3-f848-8f68d5c1a46c"
      },
      "outputs": [
        {
          "output_type": "stream",
          "name": "stdout",
          "text": [
            "[[ 2.  1.  2.]\n",
            " [ 2.  2.  4.]\n",
            " [ 2.  3.  6.]\n",
            " [ 2.  4.  8.]\n",
            " [ 2.  5. 10.]\n",
            " [ 2.  6. 12.]\n",
            " [ 2.  7. 14.]\n",
            " [ 2.  8. 16.]\n",
            " [ 2.  9. 18.]\n",
            " [ 3.  1.  3.]\n",
            " [ 3.  2.  6.]\n",
            " [ 3.  3.  9.]\n",
            " [ 3.  4. 12.]\n",
            " [ 3.  5. 15.]\n",
            " [ 3.  6. 18.]\n",
            " [ 3.  7. 21.]\n",
            " [ 3.  8. 24.]\n",
            " [ 3.  9. 27.]\n",
            " [ 4.  1.  4.]\n",
            " [ 4.  2.  8.]\n",
            " [ 4.  3. 12.]\n",
            " [ 4.  4. 16.]\n",
            " [ 4.  5. 20.]\n",
            " [ 4.  6. 24.]\n",
            " [ 4.  7. 28.]\n",
            " [ 4.  8. 32.]\n",
            " [ 4.  9. 36.]\n",
            " [ 5.  1.  5.]\n",
            " [ 5.  2. 10.]\n",
            " [ 5.  3. 15.]\n",
            " [ 5.  4. 20.]\n",
            " [ 5.  5. 25.]\n",
            " [ 5.  6. 30.]\n",
            " [ 5.  7. 35.]\n",
            " [ 5.  8. 40.]\n",
            " [ 5.  9. 45.]\n",
            " [ 6.  1.  6.]\n",
            " [ 6.  2. 12.]\n",
            " [ 6.  3. 18.]\n",
            " [ 6.  4. 24.]\n",
            " [ 6.  5. 30.]\n",
            " [ 6.  6. 36.]\n",
            " [ 6.  7. 42.]\n",
            " [ 6.  8. 48.]\n",
            " [ 6.  9. 54.]\n",
            " [ 7.  1.  7.]\n",
            " [ 7.  2. 14.]\n",
            " [ 7.  3. 21.]\n",
            " [ 7.  4. 28.]\n",
            " [ 7.  5. 35.]\n",
            " [ 7.  6. 42.]\n",
            " [ 7.  7. 49.]\n",
            " [ 7.  8. 56.]\n",
            " [ 7.  9. 63.]\n",
            " [ 8.  1.  8.]\n",
            " [ 8.  2. 16.]\n",
            " [ 8.  3. 24.]\n",
            " [ 8.  4. 32.]\n",
            " [ 8.  5. 40.]\n",
            " [ 8.  6. 48.]\n",
            " [ 8.  7. 56.]\n",
            " [ 8.  8. 64.]\n",
            " [ 8.  9. 72.]\n",
            " [ 9.  1.  9.]\n",
            " [ 9.  2. 18.]\n",
            " [ 9.  3. 27.]\n",
            " [ 9.  4. 36.]\n",
            " [ 9.  5. 45.]\n",
            " [ 9.  6. 54.]\n",
            " [ 9.  7. 63.]\n",
            " [ 9.  8. 72.]\n",
            " [ 9.  9. 81.]]\n"
          ]
        }
      ],
      "source": [
        "nums=np.zeros([8*9,3])\n",
        "for x in range(2,10):\n",
        "  a = np.zeros((9,3))\n",
        "  a[:,0] = x * np.ones(9)\n",
        "  a[:,1] = one_to_nine\n",
        "  a[:,2] = x * one_to_nine\n",
        "  nums[(x-2)*9:(x-1)*9] = a #x-2는 0부터 시작하니까 한 단씩 채워지게 됩니다.\n",
        "\n",
        "print(nums)"
      ]
    },
    {
      "cell_type": "code",
      "source": [],
      "metadata": {
        "colab": {
          "base_uri": "https://localhost:8080/"
        },
        "id": "X_LLBzkqkqwq",
        "outputId": "3ce1b0c0-5bc6-4f5c-c877-e0b96965521c"
      },
      "execution_count": 5,
      "outputs": [
        {
          "output_type": "stream",
          "name": "stdout",
          "text": [
            "[1 2 3 4 5 6 7 8 9]\n"
          ]
        }
      ]
    }
  ]
}