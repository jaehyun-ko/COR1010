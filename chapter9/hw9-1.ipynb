{
  "nbformat": 4,
  "nbformat_minor": 0,
  "metadata": {
    "colab": {
      "provenance": [],
      "authorship_tag": "ABX9TyPGjWprssdcLXgACFqAnExO",
      "include_colab_link": true
    },
    "kernelspec": {
      "name": "python3",
      "display_name": "Python 3"
    },
    "language_info": {
      "name": "python"
    }
  },
  "cells": [
    {
      "cell_type": "markdown",
      "metadata": {
        "id": "view-in-github",
        "colab_type": "text"
      },
      "source": [
        "<a href=\"https://colab.research.google.com/github/jaehyun-ko/COR1010/blob/main/chapter9/hw9-1.ipynb\" target=\"_parent\"><img src=\"https://colab.research.google.com/assets/colab-badge.svg\" alt=\"Open In Colab\"/></a>"
      ]
    },
    {
      "cell_type": "code",
      "source": [
        "import random\n",
        "import numpy as np\n",
        "\n",
        "r, c = 20, 2\n",
        "\n",
        "scores = np.zeros([r,c])\n",
        "\n",
        "scores.shape[0]\n",
        "for score in scores: \n",
        "  score[0], score[1] = random.randint(1,40), random.randint(1,50)\n",
        "\n",
        "print(\"All score list\")\n",
        "print(scores); print()\n",
        "print(\"Mid score >= 25 & Final score >= 30 list\")\n",
        "\n",
        "good_table = scores[(scores[:, 0] >= 25)]\n",
        "good_table = good_table[good_table[:, 1] >= 30]\n",
        "print(good_table)\n",
        "\n",
        "# 또는\n",
        "print()\n",
        "print(\"Mid score >= 25 & Final score >= 30 list\")\n",
        "good_table = scores[(scores[:, 0] >= 25) * (scores[:, 1] >= 30)]\n",
        "print(good_table)\n"
      ],
      "metadata": {
        "colab": {
          "base_uri": "https://localhost:8080/"
        },
        "id": "lmFnFVnC4Bda",
        "outputId": "1b89cc0b-4727-40ff-cb0b-d11b4805ed9a"
      },
      "execution_count": 10,
      "outputs": [
        {
          "output_type": "stream",
          "name": "stdout",
          "text": [
            "All score list\n",
            "[[26. 13.]\n",
            " [27. 50.]\n",
            " [39. 35.]\n",
            " [24. 42.]\n",
            " [33. 47.]\n",
            " [15. 43.]\n",
            " [40. 12.]\n",
            " [15. 16.]\n",
            " [26. 41.]\n",
            " [36. 33.]\n",
            " [29.  6.]\n",
            " [28. 22.]\n",
            " [35. 23.]\n",
            " [38.  2.]\n",
            " [ 5. 12.]\n",
            " [23. 49.]\n",
            " [23.  6.]\n",
            " [19. 31.]\n",
            " [ 2. 50.]\n",
            " [32. 45.]]\n",
            "\n",
            "Mid score >= 25 & Final score >= 30 list\n",
            "[[27. 50.]\n",
            " [39. 35.]\n",
            " [33. 47.]\n",
            " [26. 41.]\n",
            " [36. 33.]\n",
            " [32. 45.]]\n",
            "\n",
            "Mid score >= 25 & Final score >= 30 list\n",
            "[[27. 50.]\n",
            " [39. 35.]\n",
            " [33. 47.]\n",
            " [26. 41.]\n",
            " [36. 33.]\n",
            " [32. 45.]]\n"
          ]
        }
      ]
    },
    {
      "cell_type": "code",
      "source": [],
      "metadata": {
        "colab": {
          "base_uri": "https://localhost:8080/"
        },
        "id": "l5qiBCJe6CE6",
        "outputId": "a2f76f59-8b9e-490b-e802-c521051c1a2f"
      },
      "execution_count": 4,
      "outputs": [
        {
          "output_type": "stream",
          "name": "stdout",
          "text": [
            "All score list\n",
            "[[0. 0.]\n",
            " [0. 0.]\n",
            " [0. 0.]\n",
            " [0. 0.]\n",
            " [0. 0.]\n",
            " [0. 0.]\n",
            " [0. 0.]\n",
            " [0. 0.]\n",
            " [0. 0.]\n",
            " [0. 0.]\n",
            " [0. 0.]\n",
            " [0. 0.]\n",
            " [0. 0.]\n",
            " [0. 0.]\n",
            " [0. 0.]\n",
            " [0. 0.]\n",
            " [0. 0.]\n",
            " [0. 0.]\n",
            " [0. 0.]\n",
            " [0. 0.]]\n",
            "\n",
            "Mid score >= 25 & Final score >= 30 list\n",
            "[]\n"
          ]
        }
      ]
    }
  ]
}